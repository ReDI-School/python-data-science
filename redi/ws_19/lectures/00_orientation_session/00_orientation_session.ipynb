{
 "cells": [
  {
   "cell_type": "markdown",
   "metadata": {
    "colab_type": "text",
    "id": "mIL-cdlm8RP6"
   },
   "source": [
    ">>># Python For Data Science"
   ]
  },
  {
   "cell_type": "markdown",
   "metadata": {
    "colab_type": "text",
    "id": "2he29hng8RP9"
   },
   "source": [
    "# What is Data Science\n",
    "\n",
    "\"**Data science** is an **interdisciplinary** field that uses **scientific** methods, processes, algorithms and systems to **extract knowledge and insights from data** in various forms, structured and unstructured.\"\n",
    "*** \n",
    "\n",
    "<div style=\"text-align: right\"> Wikipedia </div>\n",
    "<img src=\"figures/DS.jpeg\" />\n",
    "\n",
    "## 1.Interdisciplinary\n",
    "<img src=\"figures/venn.png\" />\n",
    "\n",
    "## 2. Scientific Process\n",
    "<img src=\"figures/DSProcess.jpeg\" />\n",
    "\n",
    "## 3. Extract Insight from Structured/Unstructured Data\n",
    "<img src=\"figures/str-vs-unstr-data.jpeg\" />"
   ]
  },
  {
   "cell_type": "markdown",
   "metadata": {
    "colab": {},
    "colab_type": "code",
    "id": "AW-x--Nf8RP_"
   },
   "source": [
    "# Who are your teachers? \n",
    "\n",
    "## Iman \n",
    "\n",
    "## Nima\n",
    "\n",
    "## Florian \n",
    "- Studied Statistics at LMU Munich\n",
    "- Worked as a data scientist in industry and startups\n",
    "\n",
    "## Muzahid\n",
    "\n",
    "## Mert \n",
    "\n",
    "## Hardik"
   ]
  },
  {
   "cell_type": "markdown",
   "metadata": {
    "colab_type": "text",
    "id": "oeex47ca8RQH"
   },
   "source": [
    "# What are we going to learn in this course?\n",
    "\n",
    "## 1. Importing and Cleaning (Preprocessing) Data \n",
    "<img src=\"figures/DataCleaning.jpeg\" />\n",
    "\n",
    "\n",
    "## 2. Eplanatory Data analysis\n",
    "<img src=\"figures/EDA.jpeg\" />\n",
    "\n",
    "## 3. Data vizualisation\n",
    "<img src=\"figures/fueldata.png\" />\n",
    "\n",
    "## 4. Modeling the Data\n",
    "<img src=\"figures/DM.jpeg\" />\n",
    "\n",
    "\n",
    "### 4.1 Machine Leraning\n",
    "<img src=\"figures/ML.png\" />\n",
    "\n",
    "### 4.2 Deep Learning\n",
    "<img src=\"figures/dropout.gif\" />"
   ]
  },
  {
   "cell_type": "markdown",
   "metadata": {
    "colab_type": "text",
    "id": "TihOXn0d8RQJ"
   },
   "source": [
    "# What tools are we going to use?\n",
    "<img src=\"figures/jupyter.png\" style=\"float: left;\"/><img src=\"pandas.png\" style=\"float: right;\"/>\n",
    "<img src=\"figures/scikit.png\" style=\"float: left;\"/><img src=\"keras.png\" style=\"float: right;\"/>\n",
    "<img src=\"figures/stackoverflow.png\" style=\"float: left;\"/>"
   ]
  },
  {
   "cell_type": "markdown",
   "metadata": {
    "colab_type": "text",
    "id": "t3zPvE8W8RQL"
   },
   "source": [
    "# Example\n",
    "## We are going to start with the famous IRIS dataset!\n",
    "The iris dataset is a classic and very easy multi-class classification dataset.\n",
    "<img src=\"figures/irisClasses.png\"/>\n",
    "\n",
    "|                  |   |\n",
    "|------------------|---|\n",
    "|classes           |3  |\n",
    "|Sample per Classes|50 |\n",
    "|Total Samples     |150|\n",
    "|Dimentionality    |4  |\n",
    "|Features          |real, Positive|\n",
    "\n",
    "\n",
    "\n"
   ]
  },
  {
   "cell_type": "code",
   "execution_count": 0,
   "metadata": {
    "ExecuteTime": {
     "end_time": "2019-01-21T15:54:19.260519Z",
     "start_time": "2019-01-21T15:54:14.545265Z"
    },
    "colab": {},
    "colab_type": "code",
    "id": "NhrZ7Q1T8RQM"
   },
   "outputs": [],
   "source": [
    "%matplotlib inline\n",
    "import pandas as pd\n",
    "import sklearn as sk\n",
    "import numpy as np"
   ]
  },
  {
   "cell_type": "code",
   "execution_count": 0,
   "metadata": {
    "ExecuteTime": {
     "end_time": "2019-01-21T16:28:28.583716Z",
     "start_time": "2019-01-21T16:28:28.574021Z"
    },
    "colab": {},
    "colab_type": "code",
    "id": "oOFqW_U98RQS",
    "outputId": "de7c7fae-3561-4ae3-9e3f-fe89c89944cb"
   },
   "outputs": [
    {
     "data": {
      "text/plain": [
       "sklearn.utils.Bunch"
      ]
     },
     "execution_count": 3,
     "metadata": {
      "tags": []
     },
     "output_type": "execute_result"
    }
   ],
   "source": [
    "# importing the data set\n",
    "from sklearn.datasets import load_iris\n",
    "\n",
    "# saving the data set in an object\n",
    "iris = load_iris()\n",
    "type(iris)"
   ]
  },
  {
   "cell_type": "code",
   "execution_count": 0,
   "metadata": {
    "ExecuteTime": {
     "end_time": "2019-01-21T16:28:42.804546Z",
     "start_time": "2019-01-21T16:28:42.779143Z"
    },
    "colab": {},
    "colab_type": "code",
    "id": "6wDMDaE48RQd",
    "outputId": "f683076a-add7-4117-ea0a-0c145af8b0b3"
   },
   "outputs": [
    {
     "name": "stdout",
     "output_type": "stream",
     "text": [
      "<built-in method values of Bunch object at 0x7fe4ff77dd00>\n",
      "['sepal length (cm)', 'sepal width (cm)', 'petal length (cm)', 'petal width (cm)']\n"
     ]
    }
   ],
   "source": [
    "# print the 4 names of the features\n",
    "print(iris.feature_names)"
   ]
  },
  {
   "cell_type": "markdown",
   "metadata": {
    "colab_type": "text",
    "id": "QJPtyDIt8RQl"
   },
   "source": [
    "# Some Machine Learning Trminology\n",
    "* Each row is clled an **Observation**\n",
    "* Each column is called a **Feature**\n",
    "* Each value we are predicting is called **Target**\n"
   ]
  },
  {
   "cell_type": "code",
   "execution_count": 0,
   "metadata": {
    "ExecuteTime": {
     "end_time": "2019-01-21T16:57:39.831688Z",
     "start_time": "2019-01-21T16:57:39.811481Z"
    },
    "colab": {},
    "colab_type": "code",
    "id": "uWvvVDcG8RQn",
    "outputId": "76ba492a-0624-4970-fda4-3b3f5a0ab2a0"
   },
   "outputs": [
    {
     "name": "stdout",
     "output_type": "stream",
     "text": [
      "[[5.1 3.5 1.4 0.2]\n",
      " [4.9 3.  1.4 0.2]\n",
      " [4.7 3.2 1.3 0.2]\n",
      " [4.6 3.1 1.5 0.2]\n",
      " [5.  3.6 1.4 0.2]\n",
      " [5.4 3.9 1.7 0.4]\n",
      " [4.6 3.4 1.4 0.3]\n",
      " [5.  3.4 1.5 0.2]\n",
      " [4.4 2.9 1.4 0.2]\n",
      " [4.9 3.1 1.5 0.1]\n",
      " [5.4 3.7 1.5 0.2]\n",
      " [4.8 3.4 1.6 0.2]\n",
      " [4.8 3.  1.4 0.1]\n",
      " [4.3 3.  1.1 0.1]\n",
      " [5.8 4.  1.2 0.2]\n",
      " [5.7 4.4 1.5 0.4]\n",
      " [5.4 3.9 1.3 0.4]\n",
      " [5.1 3.5 1.4 0.3]\n",
      " [5.7 3.8 1.7 0.3]\n",
      " [5.1 3.8 1.5 0.3]\n",
      " [5.4 3.4 1.7 0.2]\n",
      " [5.1 3.7 1.5 0.4]\n",
      " [4.6 3.6 1.  0.2]\n",
      " [5.1 3.3 1.7 0.5]\n",
      " [4.8 3.4 1.9 0.2]\n",
      " [5.  3.  1.6 0.2]\n",
      " [5.  3.4 1.6 0.4]\n",
      " [5.2 3.5 1.5 0.2]\n",
      " [5.2 3.4 1.4 0.2]\n",
      " [4.7 3.2 1.6 0.2]\n",
      " [4.8 3.1 1.6 0.2]\n",
      " [5.4 3.4 1.5 0.4]\n",
      " [5.2 4.1 1.5 0.1]\n",
      " [5.5 4.2 1.4 0.2]\n",
      " [4.9 3.1 1.5 0.2]\n",
      " [5.  3.2 1.2 0.2]\n",
      " [5.5 3.5 1.3 0.2]\n",
      " [4.9 3.6 1.4 0.1]\n",
      " [4.4 3.  1.3 0.2]\n",
      " [5.1 3.4 1.5 0.2]\n",
      " [5.  3.5 1.3 0.3]\n",
      " [4.5 2.3 1.3 0.3]\n",
      " [4.4 3.2 1.3 0.2]\n",
      " [5.  3.5 1.6 0.6]\n",
      " [5.1 3.8 1.9 0.4]\n",
      " [4.8 3.  1.4 0.3]\n",
      " [5.1 3.8 1.6 0.2]\n",
      " [4.6 3.2 1.4 0.2]\n",
      " [5.3 3.7 1.5 0.2]\n",
      " [5.  3.3 1.4 0.2]\n",
      " [7.  3.2 4.7 1.4]\n",
      " [6.4 3.2 4.5 1.5]\n",
      " [6.9 3.1 4.9 1.5]\n",
      " [5.5 2.3 4.  1.3]\n",
      " [6.5 2.8 4.6 1.5]\n",
      " [5.7 2.8 4.5 1.3]\n",
      " [6.3 3.3 4.7 1.6]\n",
      " [4.9 2.4 3.3 1. ]\n",
      " [6.6 2.9 4.6 1.3]\n",
      " [5.2 2.7 3.9 1.4]\n",
      " [5.  2.  3.5 1. ]\n",
      " [5.9 3.  4.2 1.5]\n",
      " [6.  2.2 4.  1. ]\n",
      " [6.1 2.9 4.7 1.4]\n",
      " [5.6 2.9 3.6 1.3]\n",
      " [6.7 3.1 4.4 1.4]\n",
      " [5.6 3.  4.5 1.5]\n",
      " [5.8 2.7 4.1 1. ]\n",
      " [6.2 2.2 4.5 1.5]\n",
      " [5.6 2.5 3.9 1.1]\n",
      " [5.9 3.2 4.8 1.8]\n",
      " [6.1 2.8 4.  1.3]\n",
      " [6.3 2.5 4.9 1.5]\n",
      " [6.1 2.8 4.7 1.2]\n",
      " [6.4 2.9 4.3 1.3]\n",
      " [6.6 3.  4.4 1.4]\n",
      " [6.8 2.8 4.8 1.4]\n",
      " [6.7 3.  5.  1.7]\n",
      " [6.  2.9 4.5 1.5]\n",
      " [5.7 2.6 3.5 1. ]\n",
      " [5.5 2.4 3.8 1.1]\n",
      " [5.5 2.4 3.7 1. ]\n",
      " [5.8 2.7 3.9 1.2]\n",
      " [6.  2.7 5.1 1.6]\n",
      " [5.4 3.  4.5 1.5]\n",
      " [6.  3.4 4.5 1.6]\n",
      " [6.7 3.1 4.7 1.5]\n",
      " [6.3 2.3 4.4 1.3]\n",
      " [5.6 3.  4.1 1.3]\n",
      " [5.5 2.5 4.  1.3]\n",
      " [5.5 2.6 4.4 1.2]\n",
      " [6.1 3.  4.6 1.4]\n",
      " [5.8 2.6 4.  1.2]\n",
      " [5.  2.3 3.3 1. ]\n",
      " [5.6 2.7 4.2 1.3]\n",
      " [5.7 3.  4.2 1.2]\n",
      " [5.7 2.9 4.2 1.3]\n",
      " [6.2 2.9 4.3 1.3]\n",
      " [5.1 2.5 3.  1.1]\n",
      " [5.7 2.8 4.1 1.3]\n",
      " [6.3 3.3 6.  2.5]\n",
      " [5.8 2.7 5.1 1.9]\n",
      " [7.1 3.  5.9 2.1]\n",
      " [6.3 2.9 5.6 1.8]\n",
      " [6.5 3.  5.8 2.2]\n",
      " [7.6 3.  6.6 2.1]\n",
      " [4.9 2.5 4.5 1.7]\n",
      " [7.3 2.9 6.3 1.8]\n",
      " [6.7 2.5 5.8 1.8]\n",
      " [7.2 3.6 6.1 2.5]\n",
      " [6.5 3.2 5.1 2. ]\n",
      " [6.4 2.7 5.3 1.9]\n",
      " [6.8 3.  5.5 2.1]\n",
      " [5.7 2.5 5.  2. ]\n",
      " [5.8 2.8 5.1 2.4]\n",
      " [6.4 3.2 5.3 2.3]\n",
      " [6.5 3.  5.5 1.8]\n",
      " [7.7 3.8 6.7 2.2]\n",
      " [7.7 2.6 6.9 2.3]\n",
      " [6.  2.2 5.  1.5]\n",
      " [6.9 3.2 5.7 2.3]\n",
      " [5.6 2.8 4.9 2. ]\n",
      " [7.7 2.8 6.7 2. ]\n",
      " [6.3 2.7 4.9 1.8]\n",
      " [6.7 3.3 5.7 2.1]\n",
      " [7.2 3.2 6.  1.8]\n",
      " [6.2 2.8 4.8 1.8]\n",
      " [6.1 3.  4.9 1.8]\n",
      " [6.4 2.8 5.6 2.1]\n",
      " [7.2 3.  5.8 1.6]\n",
      " [7.4 2.8 6.1 1.9]\n",
      " [7.9 3.8 6.4 2. ]\n",
      " [6.4 2.8 5.6 2.2]\n",
      " [6.3 2.8 5.1 1.5]\n",
      " [6.1 2.6 5.6 1.4]\n",
      " [7.7 3.  6.1 2.3]\n",
      " [6.3 3.4 5.6 2.4]\n",
      " [6.4 3.1 5.5 1.8]\n",
      " [6.  3.  4.8 1.8]\n",
      " [6.9 3.1 5.4 2.1]\n",
      " [6.7 3.1 5.6 2.4]\n",
      " [6.9 3.1 5.1 2.3]\n",
      " [5.8 2.7 5.1 1.9]\n",
      " [6.8 3.2 5.9 2.3]\n",
      " [6.7 3.3 5.7 2.5]\n",
      " [6.7 3.  5.2 2.3]\n",
      " [6.3 2.5 5.  1.9]\n",
      " [6.5 3.  5.2 2. ]\n",
      " [6.2 3.4 5.4 2.3]\n",
      " [5.9 3.  5.1 1.8]]\n"
     ]
    },
    {
     "data": {
      "text/plain": [
       "(150, 4)"
      ]
     },
     "execution_count": 19,
     "metadata": {
      "tags": []
     },
     "output_type": "execute_result"
    }
   ],
   "source": [
    "# Looking into the data\n",
    "print(iris.data)"
   ]
  },
  {
   "cell_type": "code",
   "execution_count": 0,
   "metadata": {
    "colab": {},
    "colab_type": "code",
    "id": "SXIAz-2c8RQu",
    "outputId": "9c48ad27-e5b4-4813-d6ea-9aa8e6b5b4cc"
   },
   "outputs": [
    {
     "data": {
      "text/plain": [
       "(150, 4)"
      ]
     },
     "execution_count": 20,
     "metadata": {
      "tags": []
     },
     "output_type": "execute_result"
    }
   ],
   "source": [
    "iris.data.shape"
   ]
  },
  {
   "cell_type": "code",
   "execution_count": 0,
   "metadata": {
    "ExecuteTime": {
     "end_time": "2019-01-21T16:58:06.563439Z",
     "start_time": "2019-01-21T16:58:06.555466Z"
    },
    "colab": {},
    "colab_type": "code",
    "id": "3lT-KT7w8RQ1",
    "outputId": "cfdd5524-edf0-4297-ff2e-e018752b4e61"
   },
   "outputs": [
    {
     "name": "stdout",
     "output_type": "stream",
     "text": [
      "[0 0 0 0 0 0 0 0 0 0 0 0 0 0 0 0 0 0 0 0 0 0 0 0 0 0 0 0 0 0 0 0 0 0 0 0 0\n",
      " 0 0 0 0 0 0 0 0 0 0 0 0 0 1 1 1 1 1 1 1 1 1 1 1 1 1 1 1 1 1 1 1 1 1 1 1 1\n",
      " 1 1 1 1 1 1 1 1 1 1 1 1 1 1 1 1 1 1 1 1 1 1 1 1 1 1 2 2 2 2 2 2 2 2 2 2 2\n",
      " 2 2 2 2 2 2 2 2 2 2 2 2 2 2 2 2 2 2 2 2 2 2 2 2 2 2 2 2 2 2 2 2 2 2 2 2 2\n",
      " 2 2]\n"
     ]
    }
   ],
   "source": [
    "# print the encoded representation of the target names\n",
    "print(iris.target)"
   ]
  },
  {
   "cell_type": "code",
   "execution_count": 0,
   "metadata": {
    "ExecuteTime": {
     "end_time": "2019-01-21T16:58:35.683417Z",
     "start_time": "2019-01-21T16:58:35.677091Z"
    },
    "colab": {},
    "colab_type": "code",
    "id": "6GDg-kI38RQ8",
    "outputId": "9f4c69cd-8ef2-4307-8984-f06bc0d3b564"
   },
   "outputs": [
    {
     "name": "stdout",
     "output_type": "stream",
     "text": [
      "['setosa' 'versicolor' 'virginica']\n"
     ]
    }
   ],
   "source": [
    "#print the real names of the targets 0 = Setosa , 1 = Versicolor, 2 = Virginica \n",
    "print(iris.target_names)"
   ]
  },
  {
   "cell_type": "markdown",
   "metadata": {
    "colab_type": "text",
    "id": "Wmwj0upV8RRD"
   },
   "source": [
    "## - Classification is a supervised Machine Learning problem in which the target is categorical.\n",
    "## - Regression is a supervised Machine Learning proble in which the target is a continuoes value.\n",
    "## - Clustering allows us to \n",
    "### What kind of Machine Learning problem is Iris ?"
   ]
  },
  {
   "cell_type": "markdown",
   "metadata": {
    "colab_type": "text",
    "id": "Dv8jWI1u8RRF"
   },
   "source": [
    "# Requirements of Scikit-Learn for working with Data\n",
    "* Features and Target should be passed into scikit_Learn as **seperate objects**.\n",
    "* Features and Target should be numeric.\n",
    "* Features and Target should be Numpy Arrays.\n",
    "* Features and Response should have specific shapes."
   ]
  },
  {
   "cell_type": "code",
   "execution_count": 0,
   "metadata": {
    "ExecuteTime": {
     "end_time": "2019-01-21T17:18:03.792493Z",
     "start_time": "2019-01-21T17:18:03.787462Z"
    },
    "colab": {},
    "colab_type": "code",
    "id": "Me3J5h9_8RRI",
    "outputId": "487f6f08-3abe-4a02-947f-3e656a9be185"
   },
   "outputs": [
    {
     "name": "stdout",
     "output_type": "stream",
     "text": [
      "<class 'numpy.ndarray'>\n",
      "<class 'numpy.ndarray'>\n"
     ]
    }
   ],
   "source": [
    "# type of target and response\n",
    "print(type(iris.data))\n",
    "print(type(iris.target))"
   ]
  },
  {
   "cell_type": "code",
   "execution_count": 0,
   "metadata": {
    "ExecuteTime": {
     "end_time": "2019-01-21T17:20:09.821472Z",
     "start_time": "2019-01-21T17:20:09.818000Z"
    },
    "colab": {},
    "colab_type": "code",
    "id": "aVdptSul8RRP",
    "outputId": "3f9d8351-c53c-4995-9dee-1e578f597510"
   },
   "outputs": [
    {
     "name": "stdout",
     "output_type": "stream",
     "text": [
      "(150, 4)\n"
     ]
    }
   ],
   "source": [
    "# shape of the features (first dimension= number of observations, secod dimension= number of features)\n",
    "print(iris.data.shape)"
   ]
  },
  {
   "cell_type": "code",
   "execution_count": 0,
   "metadata": {
    "ExecuteTime": {
     "end_time": "2019-01-21T17:21:48.242021Z",
     "start_time": "2019-01-21T17:21:48.225035Z"
    },
    "colab": {},
    "colab_type": "code",
    "id": "RcphtExF8RRY",
    "outputId": "3412ddba-be38-4a71-8ae9-3ca689b822f7"
   },
   "outputs": [
    {
     "name": "stdout",
     "output_type": "stream",
     "text": [
      "(150,)\n"
     ]
    }
   ],
   "source": [
    "# shape of the target (single dimension matching the number of observations)\n",
    "print(iris.target.shape)"
   ]
  },
  {
   "cell_type": "code",
   "execution_count": 0,
   "metadata": {
    "ExecuteTime": {
     "end_time": "2019-01-21T17:24:37.205050Z",
     "start_time": "2019-01-21T17:24:37.199229Z"
    },
    "colab": {},
    "colab_type": "code",
    "id": "DUELq61m8RRf"
   },
   "outputs": [],
   "source": [
    "# store feature matrix in X\n",
    "X = iris.data\n",
    "\n",
    "# store target vector in y\n",
    "y = iris.target"
   ]
  },
  {
   "cell_type": "markdown",
   "metadata": {
    "colab_type": "text",
    "id": "0mRDRuEF8RRn"
   },
   "source": [
    "##  Were you able to follow and are you curious what happens next?\n",
    "### Join us for the course and we will work on real-life Machine Learning Projects together"
   ]
  },
  {
   "cell_type": "markdown",
   "metadata": {
    "colab_type": "text",
    "id": "-swuAUBD8RRo"
   },
   "source": [
    "### Refrences :\n",
    "* https://www.youtube.com/watch?v=6rjhrc4SEqM\n",
    "* https://www.youtube.com/watch?v=hd1W4CyPX58"
   ]
  },
  {
   "cell_type": "code",
   "execution_count": 0,
   "metadata": {
    "colab": {},
    "colab_type": "code",
    "id": "ql0Ghn7W8RRr"
   },
   "outputs": [],
   "source": []
  }
 ],
 "metadata": {
  "colab": {
   "collapsed_sections": [],
   "name": "OrientationP4DS.ipynb",
   "provenance": [],
   "version": "0.3.2"
  },
  "kernelspec": {
   "display_name": "Python 3",
   "language": "python",
   "name": "python3"
  },
  "language_info": {
   "codemirror_mode": {
    "name": "ipython",
    "version": 3
   },
   "file_extension": ".py",
   "mimetype": "text/x-python",
   "name": "python",
   "nbconvert_exporter": "python",
   "pygments_lexer": "ipython3",
   "version": "3.6.7"
  }
 },
 "nbformat": 4,
 "nbformat_minor": 1
}
